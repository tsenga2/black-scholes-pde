{
  "nbformat": 4,
  "nbformat_minor": 0,
  "metadata": {
    "colab": {
      "provenance": []
    },
    "kernelspec": {
      "name": "python3",
      "display_name": "Python 3"
    },
    "language_info": {
      "name": "python"
    }
  },
  "cells": [
    {
      "cell_type": "markdown",
      "source": [
        "Black-Scholes Option Pricing Model: Numerical Solutions\n",
        "Introduction to Financial Option Pricing\n",
        "This notebook explores the numerical solutions to the Black-Scholes partial differential equation (PDE) for option pricing. We'll implement both explicit and implicit finite difference methods using Python.\n",
        "1. The Black-Scholes Model\n",
        "The Black-Scholes PDE is given by:\n",
        "$\\frac{\\partial V}{\\partial t} + \\frac{1}{2}\\sigma^2S^2\\frac{\\partial^2 V}{\\partial S^2} + (r-d)S\\frac{\\partial V}{\\partial S} - rV = 0$\n",
        "Where:\n",
        "\n",
        "$V(S,t)$ is the option price\n",
        "$S$ is the stock price\n",
        "$t$ is time\n",
        "$\\sigma$ is volatility\n",
        "$r$ is risk-free interest rate\n",
        "$d$ is dividend yield\n",
        "\n",
        "2. Implementation in Python\n",
        "First, let's import the necessary libraries:"
      ],
      "metadata": {
        "id": "Drcx1Pbq6pPl"
      }
    },
    {
      "cell_type": "code",
      "execution_count": null,
      "metadata": {
        "id": "G7p5m1-w5DAp"
      },
      "outputs": [],
      "source": [
        "import numpy as np\n",
        "import matplotlib.pyplot as plt\n",
        "from mpl_toolkits.mplot3d import Axes3D\n",
        "\n",
        "def payoff(S, K, is_call=True):\n",
        "    \"\"\"Calculate the payoff of an option\"\"\"\n",
        "    if is_call:\n",
        "        return np.maximum(S - K, 0)\n",
        "    return np.maximum(K - S, 0)"
      ]
    },
    {
      "cell_type": "markdown",
      "source": [
        "2.1 Implicit Finite Difference Method\n"
      ],
      "metadata": {
        "id": "NeX1b6iG6tfQ"
      }
    },
    {
      "cell_type": "code",
      "source": [
        "def black_scholes_implicit(N, M, Smin, Smax, T, K, sigma, r, d, is_call=True):\n",
        "    \"\"\"\n",
        "    Solve Black-Scholes PDE using implicit finite difference method\n",
        "\n",
        "    Parameters:\n",
        "    -----------\n",
        "    N : int\n",
        "        Number of time steps\n",
        "    M : int\n",
        "        Number of stock price steps\n",
        "    Smin, Smax : float\n",
        "        Min and max stock prices\n",
        "    T : float\n",
        "        Time to maturity\n",
        "    K : float\n",
        "        Strike price\n",
        "    sigma : float\n",
        "        Volatility\n",
        "    r : float\n",
        "        Risk-free rate\n",
        "    d : float\n",
        "        Dividend yield\n",
        "    is_call : bool\n",
        "        True for call option, False for put option\n",
        "\n",
        "    Returns:\n",
        "    --------\n",
        "    t_vals : array\n",
        "        Time grid points\n",
        "    S_vals : array\n",
        "        Stock price grid points\n",
        "    surf : array\n",
        "        Option prices surface\n",
        "    \"\"\"\n",
        "    # Create grid\n",
        "    dt = T/N\n",
        "    dS = (Smax-Smin)/M\n",
        "\n",
        "    t_vals = np.linspace(0, T, N+1)\n",
        "    S_vals = np.linspace(Smin, Smax, M+1)\n",
        "\n",
        "    # Initialize surface\n",
        "    surf = np.zeros((N+1, M+1))\n",
        "\n",
        "    # Set boundary conditions\n",
        "    if is_call:\n",
        "        surf[:, 0] = 0\n",
        "        surf[:, -1] = Smax - K\n",
        "        surf[-1, :] = payoff(S_vals, K, is_call)\n",
        "    else:\n",
        "        surf[:, 0] = K\n",
        "        surf[:, -1] = 0\n",
        "        surf[-1, :] = payoff(S_vals, K, is_call)\n",
        "\n",
        "    # Create coefficient functions\n",
        "    j = np.arange(1, M)\n",
        "    a = lambda j: 0.5*(r-d)*j*dt - 0.5*sigma**2*j**2*dt\n",
        "    b = lambda j: 1 + sigma**2*j**2*dt + r*dt\n",
        "    c = lambda j: -0.5*(r-d)*j*dt - 0.5*sigma**2*j**2*dt\n",
        "\n",
        "    # Create tridiagonal matrix\n",
        "    A = np.diag(a(j[1:]), -1) + np.diag(b(j)) + np.diag(c(j[:-1]), 1)\n",
        "\n",
        "    # Solve backwards in time\n",
        "    for i in range(N-1, -1, -1):\n",
        "        v = surf[i+1, 1:-1]\n",
        "        v[0] = v[0] - a(1)*surf[i, 0]\n",
        "        v[-1] = v[-1] - c(M-1)*surf[i, -1]\n",
        "\n",
        "        surf[i, 1:-1] = np.linalg.solve(A, v)\n",
        "\n",
        "        # Apply free boundary condition\n",
        "        surf[i, 1:-1] = np.maximum(surf[i, 1:-1],\n",
        "                                 payoff(S_vals[1:-1], K, is_call))\n",
        "\n",
        "    return t_vals, S_vals, surf"
      ],
      "metadata": {
        "id": "y2I6twVj6tNY"
      },
      "execution_count": null,
      "outputs": []
    },
    {
      "cell_type": "markdown",
      "source": [
        "2.2 Explicit Finite Difference Method"
      ],
      "metadata": {
        "id": "m_cdnMiy6yZ0"
      }
    },
    {
      "cell_type": "code",
      "source": [
        "def black_scholes_explicit(N, M, Smin, Smax, T, K, sigma, r, d, is_call=True):\n",
        "    \"\"\"\n",
        "    Solve Black-Scholes PDE using explicit finite difference method\n",
        "    \"\"\"\n",
        "    # Create grid\n",
        "    dt = T/N\n",
        "    dS = (Smax-Smin)/M\n",
        "\n",
        "    t_vals = np.linspace(0, T, N+1)\n",
        "    S_vals = np.linspace(Smin, Smax, M+1)\n",
        "\n",
        "    # Initialize surface\n",
        "    surf = np.zeros((N+1, M+1))\n",
        "\n",
        "    # Set boundary conditions\n",
        "    if is_call:\n",
        "        surf[:, 0] = 0\n",
        "        surf[:, -1] = Smax - K\n",
        "        surf[-1, :] = payoff(S_vals, K, is_call)\n",
        "    else:\n",
        "        surf[:, 0] = K\n",
        "        surf[:, -1] = 0\n",
        "        surf[-1, :] = payoff(S_vals, K, is_call)\n",
        "\n",
        "    # Create coefficient functions\n",
        "    j = np.arange(1, M)\n",
        "    a = lambda j: 1/(1+r*dt)*(-0.5*(r-d)*j*dt + 0.5*sigma**2*j**2*dt)\n",
        "    b = lambda j: 1/(1+r*dt)*(1 - sigma**2*j**2*dt)\n",
        "    c = lambda j: 1/(1+r*dt)*(0.5*(r-d)*j*dt + 0.5*sigma**2*j**2*dt)\n",
        "\n",
        "    # Solve backwards in time\n",
        "    for i in range(N-1, -1, -1):\n",
        "        for j in range(1, M):\n",
        "            surf[i,j] = (a(j)*surf[i+1,j-1] +\n",
        "                        b(j)*surf[i+1,j] +\n",
        "                        c(j)*surf[i+1,j+1])\n",
        "\n",
        "        # Apply free boundary condition\n",
        "        surf[i, 1:-1] = np.maximum(surf[i, 1:-1],\n",
        "                                 payoff(S_vals[1:-1], K, is_call))\n",
        "\n",
        "    return t_vals, S_vals, surf"
      ],
      "metadata": {
        "id": "i1m6O2Bd6tHM"
      },
      "execution_count": null,
      "outputs": []
    },
    {
      "cell_type": "markdown",
      "source": [
        "3. Visualization and Analysis\n",
        "Let's create a function to plot the results:"
      ],
      "metadata": {
        "id": "mJuCbB9R65lk"
      }
    },
    {
      "cell_type": "code",
      "source": [
        "def plot_option_surface(t_vals, S_vals, surf, title=\"Option Price Surface\"):\n",
        "    \"\"\"Plot the option price surface\"\"\"\n",
        "    T, S = np.meshgrid(t_vals, S_vals)\n",
        "\n",
        "    fig = plt.figure(figsize=(10, 8))\n",
        "    ax = fig.add_subplot(111, projection='3d')\n",
        "\n",
        "    surf_plot = ax.plot_surface(S, T, surf.T, cmap='viridis')\n",
        "\n",
        "    ax.set_xlabel('Stock Price')\n",
        "    ax.set_ylabel('Time to Maturity')\n",
        "    ax.set_zlabel('Option Price')\n",
        "    ax.set_title(title)\n",
        "\n",
        "    plt.colorbar(surf_plot)\n",
        "    plt.show()\n",
        "\n",
        "# Example usage\n",
        "# Parameters\n",
        "N = 4000  # time steps\n",
        "M = 1000  # stock price steps\n",
        "Smin = 0.4\n",
        "Smax = 1000\n",
        "T = 1\n",
        "K = 10\n",
        "sigma = 0.4\n",
        "r = 0.02\n",
        "d = 0\n",
        "is_call = True\n",
        "\n",
        "# Solve using implicit method\n",
        "t_vals, S_vals, surf_implicit = black_scholes_implicit(\n",
        "    N, M, Smin, Smax, T, K, sigma, r, d, is_call\n",
        ")\n",
        "\n",
        "# Plot results\n",
        "plot_option_surface(t_vals, S_vals, surf_implicit,\n",
        "                   \"Black-Scholes Option Price (Implicit Method)\")"
      ],
      "metadata": {
        "id": "2wNCAxk568CL"
      },
      "execution_count": null,
      "outputs": []
    },
    {
      "cell_type": "markdown",
      "source": [
        "4. Key Differences Between Methods\n",
        "Implicit Method\n",
        "\n",
        "Unconditionally stable\n",
        "Requires solving a linear system at each time step\n",
        "More computationally intensive per step\n",
        "Can use larger time steps\n",
        "\n",
        "Explicit Method\n",
        "\n",
        "Conditionally stable (requires CFL condition)\n",
        "Simple to implement\n",
        "Less computationally intensive per step\n",
        "Requires smaller time steps for stability\n",
        "\n",
        "5. Stability Analysis\n",
        "The stability of the explicit method is governed by the CFL (Courant-Friedrichs-Lewy) condition:\n",
        "$\\Delta t \\leq \\frac{(\\Delta S)^2}{(\\sigma S)^2}$\n",
        "For our implementation, we should check:"
      ],
      "metadata": {
        "id": "XYi8XvCO7BdJ"
      }
    },
    {
      "cell_type": "code",
      "source": [
        "def check_stability(dS, dt, S, sigma):\n",
        "    \"\"\"Check if the explicit method is stable\"\"\"\n",
        "    return dt <= (dS**2)/(sigma*S)**2\n",
        "\n",
        "# Example check\n",
        "dS = (Smax-Smin)/M\n",
        "dt = T/N\n",
        "S_mid = (Smax+Smin)/2\n",
        "is_stable = check_stability(dS, dt, S_mid, sigma)\n",
        "print(f\"Explicit method stability at midpoint: {'Stable' if is_stable else 'Unstable'}\")"
      ],
      "metadata": {
        "id": "JbBqLekn7CCg"
      },
      "execution_count": null,
      "outputs": []
    },
    {
      "cell_type": "markdown",
      "source": [
        "6. Exercises\n",
        "\n",
        "Compare the results of explicit and implicit methods for different parameter values.\n",
        "Analyze the convergence rate as you increase the number of grid points.\n",
        "Implement the Crank-Nicolson method, which is a combination of explicit and implicit methods.\n",
        "Add Greeks calculations (Delta, Gamma, Theta) to the implementation.\n",
        "\n",
        "References\n",
        "\n",
        "Black, F., & Scholes, M. (1973). The Pricing of Options and Corporate Liabilities. Journal of Political Economy, 81(3), 637-654.\n",
        "Wilmott, P. (2006). Paul Wilmott on Quantitative Finance, 2nd Edition. Wiley."
      ],
      "metadata": {
        "id": "oiusuZyn7FRZ"
      }
    }
  ]
}